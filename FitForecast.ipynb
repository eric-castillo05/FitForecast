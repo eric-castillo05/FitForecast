{
  "cells": [
    {
      "cell_type": "markdown",
      "metadata": {
        "id": "view-in-github",
        "colab_type": "text"
      },
      "source": [
        "<a href=\"https://colab.research.google.com/github/eric-castillo05/FitForecast/blob/main/FitForecast.ipynb\" target=\"_parent\"><img src=\"https://colab.research.google.com/assets/colab-badge.svg\" alt=\"Open In Colab\"/></a>"
      ]
    },
    {
      "cell_type": "markdown",
      "metadata": {
        "id": "CifZMkTTTgAb"
      },
      "source": [
        "# Introduction\n",
        "Weight training is an effective way to increase strength, power, and muscle mass. However, it can be difficult for people who go to the gym regularly to know how much weight they should lift on each exercise. This can lead to plateaus in progress or even injuries.\n",
        "\n",
        "Progressive overload is a fundamental principle of weight training. It is the process of gradually increasing the amount of weight that is lifted over time. This helps muscles to adapt and grow.\n",
        "\n",
        "# Objectives\n",
        "The objective of this project is to develop a machine learning model, specifically a neural network, that can predict the date on which a person will be able to lift a given weight on a given exercise. This model will be based on training data that includes information about the person's training history, their physical characteristics, and other relevant factors.\n",
        "\n",
        "# Benefits\n",
        "This neural network-based model can benefit people who go to the gym regularly in several ways. First, it can help people to plan their workouts more effectively. This can help people to avoid plateaus and injuries. Second, the model can help people to stay motivated. When people see their progress, they are more likely to keep training.\n",
        "\n",
        "# Methodology\n",
        "The project will be divided into the following phases:\n",
        "\n",
        "1. Data preparation: The training data will be cleaned and prepared so that it can be used by the neural network model.\n",
        "2. Selection of machine learning model: Different machine learning models, with a focus on neural networks, will be evaluated to determine which is the most suitable for this task.\n",
        "3. Training of the neural network model: The neural network model will be trained on the training data, leveraging its capacity to capture complex patterns.\n",
        "4. Evaluation of the neural network model: The neural network model will be evaluated on the test data to determine its accuracy and effectiveness in predicting weight lifting dates."
      ]
    },
    {
      "cell_type": "markdown",
      "metadata": {
        "id": "WVR5-r2fCbDG"
      },
      "source": [
        "Numpy (`import numpy as np`):\n",
        "Efficient library for array manipulation and mathematical operations.\n",
        "\n",
        "Pandas (`import pandas as pd`):\n",
        "Library for tabular data manipulation and analysis.\n",
        "\n",
        "Matplotlib (`import matplotlib.pyplot as plt`):\n",
        "Visualization tool for creating graphs and visualizations.\n",
        "\n",
        "TensorFlow (`import tensorflow as tf`):\n",
        "Open-source library for developing and training machine learning models.\n",
        "\n",
        "Scikit-Learn (`from sklearn.model_selection import train_test_split`):\n",
        "Toolkit for machine learning that includes functions for splitting datasets into training and testing sets.\n",
        "\n",
        "Keras (`from keras.models import Sequential, from keras.layers import Dense`):\n",
        "High-level interface for building and training deep learning models.\n",
        "\n",
        "Scikit-Learn (`from sklearn.metrics import f1_score, mean_absolute_error`):\n",
        "Evaluation functions to compute metrics such as F1 score and mean absolute error (MAE)."
      ]
    },
    {
      "cell_type": "code",
      "source": [
        "import numpy as np\n",
        "import pandas as pd\n",
        "import matplotlib.pyplot as plt\n",
        "import tensorflow as tf\n",
        "from sklearn.model_selection import train_test_split\n",
        "from keras.models import Sequential\n",
        "from keras.layers import Dense\n",
        "from sklearn.metrics import f1_score, mean_absolute_error"
      ],
      "metadata": {
        "id": "rulACQb97gKG"
      },
      "execution_count": 16,
      "outputs": []
    },
    {
      "cell_type": "markdown",
      "source": [
        "# Load the data\n",
        "\n",
        "To streamline our workflow and facilitate efficient data retrieval, we opted to upload all datasets to Google Drive. This centralized storage solution ensures convenient access to the data, which is currently organized in a CSV files."
      ],
      "metadata": {
        "id": "P-yw4Zp35mtt"
      }
    },
    {
      "cell_type": "code",
      "source": [
        "df = pd.read_csv('/content/drive/MyDrive/datasets/gym_data.csv')"
      ],
      "metadata": {
        "id": "KMECH19K5vjR"
      },
      "execution_count": 17,
      "outputs": []
    },
    {
      "cell_type": "markdown",
      "source": [
        "# Data cleaning"
      ],
      "metadata": {
        "id": "dsqhgEhK5wRl"
      }
    },
    {
      "cell_type": "code",
      "source": [
        "# Convert the date to a pandas-compatible format\n",
        "df['fecha'] = pd.to_datetime(df['fecha'], dayfirst=True)\n",
        "\n",
        "# Transform dates to the number of days elapsed since the minimum date in the dataset\n",
        "df['fecha'] = (df['fecha'] - df['fecha'].min()).dt.days\n",
        "\n",
        "# Drop rows with missing values\n",
        "df = df.dropna()\n",
        "\n",
        "# Separate the target variable (y) and features (X)\n",
        "y = df['fecha']\n",
        "X = df[[\"fecha\", 'ejercicio', \"repeticiones\"]]\n",
        "\n",
        "# Drop rows with missing values in features\n",
        "X = X.dropna()\n",
        "\n",
        "# One-hot encode categorical values (e.g., 'ejercicio')\n",
        "X = pd.get_dummies(X, columns=['ejercicio'])"
      ],
      "metadata": {
        "id": "o3ufsg5f52HS"
      },
      "execution_count": 18,
      "outputs": []
    },
    {
      "cell_type": "markdown",
      "source": [
        "#  Data division"
      ],
      "metadata": {
        "id": "czrg3Dia6cjn"
      }
    },
    {
      "cell_type": "code",
      "source": [
        "# Split the dataset into training and the remaining (temp) sets\n",
        "X_train, X_temp, y_train, y_temp = train_test_split(X, y, test_size=0.4, random_state=1)  # 60% training, 40% remaining\n",
        "\n",
        "# Further split the remaining set into validation and test sets\n",
        "X_val, X_test, y_val, y_test = train_test_split(X_temp, y_temp, test_size=0.5, random_state=1)  # 20% validation, 20% test"
      ],
      "metadata": {
        "id": "9N4USOkx6diZ"
      },
      "execution_count": 19,
      "outputs": []
    },
    {
      "cell_type": "markdown",
      "source": [
        "# Model Selection: Neural Network"
      ],
      "metadata": {
        "id": "Ic-Kdzgv6mgb"
      }
    },
    {
      "cell_type": "code",
      "source": [
        "model = tf.keras.Sequential([\n",
        "    tf.keras.layers.Dense(128, activation='relu', input_shape=(X_train.shape[1],)),\n",
        "    tf.keras.layers.Dense(64, activation='relu'),\n",
        "    tf.keras.layers.Dense(1, activation='linear')\n",
        "])"
      ],
      "metadata": {
        "id": "06qSALWV6nbp"
      },
      "execution_count": 20,
      "outputs": []
    },
    {
      "cell_type": "code",
      "source": [
        "model.compile(optimizer='adam', loss='mse')"
      ],
      "metadata": {
        "id": "NmmD2WnF6tgl"
      },
      "execution_count": 21,
      "outputs": []
    },
    {
      "cell_type": "markdown",
      "source": [
        "# Training and evaluation"
      ],
      "metadata": {
        "id": "JCluwgGf6xrN"
      }
    },
    {
      "cell_type": "code",
      "source": [
        "history = model.fit(X_train, y_train, epochs=100, validation_data=(X_val, y_val))"
      ],
      "metadata": {
        "colab": {
          "base_uri": "https://localhost:8080/"
        },
        "id": "8g5NHy-561RZ",
        "outputId": "29e3f546-8227-4f19-eed4-f7af9a4077ce"
      },
      "execution_count": 22,
      "outputs": [
        {
          "output_type": "stream",
          "name": "stdout",
          "text": [
            "Epoch 1/100\n",
            "16/16 [==============================] - 1s 16ms/step - loss: 6851.5361 - val_loss: 1502.4061\n",
            "Epoch 2/100\n",
            "16/16 [==============================] - 0s 6ms/step - loss: 363.8369 - val_loss: 241.4620\n",
            "Epoch 3/100\n",
            "16/16 [==============================] - 0s 6ms/step - loss: 156.4556 - val_loss: 2.8994\n",
            "Epoch 4/100\n",
            "16/16 [==============================] - 0s 5ms/step - loss: 12.4088 - val_loss: 13.0110\n",
            "Epoch 5/100\n",
            "16/16 [==============================] - 0s 6ms/step - loss: 3.3031 - val_loss: 2.4520\n",
            "Epoch 6/100\n",
            "16/16 [==============================] - 0s 6ms/step - loss: 1.3240 - val_loss: 0.4919\n",
            "Epoch 7/100\n",
            "16/16 [==============================] - 0s 5ms/step - loss: 0.4281 - val_loss: 0.4455\n",
            "Epoch 8/100\n",
            "16/16 [==============================] - 0s 6ms/step - loss: 0.2777 - val_loss: 0.3783\n",
            "Epoch 9/100\n",
            "16/16 [==============================] - 0s 5ms/step - loss: 0.2059 - val_loss: 0.3219\n",
            "Epoch 10/100\n",
            "16/16 [==============================] - 0s 5ms/step - loss: 0.1874 - val_loss: 0.2952\n",
            "Epoch 11/100\n",
            "16/16 [==============================] - 0s 5ms/step - loss: 0.1696 - val_loss: 0.2605\n",
            "Epoch 12/100\n",
            "16/16 [==============================] - 0s 5ms/step - loss: 0.1512 - val_loss: 0.2335\n",
            "Epoch 13/100\n",
            "16/16 [==============================] - 0s 6ms/step - loss: 0.1351 - val_loss: 0.2079\n",
            "Epoch 14/100\n",
            "16/16 [==============================] - 0s 5ms/step - loss: 0.1217 - val_loss: 0.1815\n",
            "Epoch 15/100\n",
            "16/16 [==============================] - 0s 6ms/step - loss: 0.1050 - val_loss: 0.1555\n",
            "Epoch 16/100\n",
            "16/16 [==============================] - 0s 5ms/step - loss: 0.0866 - val_loss: 0.1179\n",
            "Epoch 17/100\n",
            "16/16 [==============================] - 0s 5ms/step - loss: 0.0601 - val_loss: 0.0775\n",
            "Epoch 18/100\n",
            "16/16 [==============================] - 0s 6ms/step - loss: 0.0448 - val_loss: 0.0570\n",
            "Epoch 19/100\n",
            "16/16 [==============================] - 0s 7ms/step - loss: 0.0351 - val_loss: 0.0458\n",
            "Epoch 20/100\n",
            "16/16 [==============================] - 0s 6ms/step - loss: 0.0290 - val_loss: 0.0378\n",
            "Epoch 21/100\n",
            "16/16 [==============================] - 0s 6ms/step - loss: 0.0251 - val_loss: 0.0311\n",
            "Epoch 22/100\n",
            "16/16 [==============================] - 0s 5ms/step - loss: 0.0212 - val_loss: 0.0264\n",
            "Epoch 23/100\n",
            "16/16 [==============================] - 0s 5ms/step - loss: 0.0189 - val_loss: 0.0233\n",
            "Epoch 24/100\n",
            "16/16 [==============================] - 0s 5ms/step - loss: 0.0176 - val_loss: 0.0220\n",
            "Epoch 25/100\n",
            "16/16 [==============================] - 0s 5ms/step - loss: 0.0158 - val_loss: 0.0187\n",
            "Epoch 26/100\n",
            "16/16 [==============================] - 0s 6ms/step - loss: 0.0145 - val_loss: 0.0170\n",
            "Epoch 27/100\n",
            "16/16 [==============================] - 0s 6ms/step - loss: 0.0135 - val_loss: 0.0158\n",
            "Epoch 28/100\n",
            "16/16 [==============================] - 0s 5ms/step - loss: 0.0126 - val_loss: 0.0153\n",
            "Epoch 29/100\n",
            "16/16 [==============================] - 0s 5ms/step - loss: 0.0121 - val_loss: 0.0141\n",
            "Epoch 30/100\n",
            "16/16 [==============================] - 0s 6ms/step - loss: 0.0116 - val_loss: 0.0134\n",
            "Epoch 31/100\n",
            "16/16 [==============================] - 0s 6ms/step - loss: 0.0107 - val_loss: 0.0128\n",
            "Epoch 32/100\n",
            "16/16 [==============================] - 0s 6ms/step - loss: 0.0110 - val_loss: 0.0123\n",
            "Epoch 33/100\n",
            "16/16 [==============================] - 0s 5ms/step - loss: 0.0108 - val_loss: 0.0118\n",
            "Epoch 34/100\n",
            "16/16 [==============================] - 0s 5ms/step - loss: 0.0094 - val_loss: 0.0120\n",
            "Epoch 35/100\n",
            "16/16 [==============================] - 0s 5ms/step - loss: 0.0088 - val_loss: 0.0110\n",
            "Epoch 36/100\n",
            "16/16 [==============================] - 0s 6ms/step - loss: 0.0086 - val_loss: 0.0104\n",
            "Epoch 37/100\n",
            "16/16 [==============================] - 0s 6ms/step - loss: 0.0081 - val_loss: 0.0102\n",
            "Epoch 38/100\n",
            "16/16 [==============================] - 0s 5ms/step - loss: 0.0079 - val_loss: 0.0098\n",
            "Epoch 39/100\n",
            "16/16 [==============================] - 0s 6ms/step - loss: 0.0075 - val_loss: 0.0097\n",
            "Epoch 40/100\n",
            "16/16 [==============================] - 0s 5ms/step - loss: 0.0071 - val_loss: 0.0091\n",
            "Epoch 41/100\n",
            "16/16 [==============================] - 0s 6ms/step - loss: 0.0067 - val_loss: 0.0090\n",
            "Epoch 42/100\n",
            "16/16 [==============================] - 0s 5ms/step - loss: 0.0065 - val_loss: 0.0083\n",
            "Epoch 43/100\n",
            "16/16 [==============================] - 0s 5ms/step - loss: 0.0059 - val_loss: 0.0081\n",
            "Epoch 44/100\n",
            "16/16 [==============================] - 0s 5ms/step - loss: 0.0056 - val_loss: 0.0079\n",
            "Epoch 45/100\n",
            "16/16 [==============================] - 0s 5ms/step - loss: 0.0053 - val_loss: 0.0079\n",
            "Epoch 46/100\n",
            "16/16 [==============================] - 0s 5ms/step - loss: 0.0050 - val_loss: 0.0074\n",
            "Epoch 47/100\n",
            "16/16 [==============================] - 0s 4ms/step - loss: 0.0048 - val_loss: 0.0086\n",
            "Epoch 48/100\n",
            "16/16 [==============================] - 0s 5ms/step - loss: 0.0055 - val_loss: 0.0070\n",
            "Epoch 49/100\n",
            "16/16 [==============================] - 0s 5ms/step - loss: 0.0043 - val_loss: 0.0072\n",
            "Epoch 50/100\n",
            "16/16 [==============================] - 0s 5ms/step - loss: 0.0044 - val_loss: 0.0068\n",
            "Epoch 51/100\n",
            "16/16 [==============================] - 0s 5ms/step - loss: 0.0043 - val_loss: 0.0061\n",
            "Epoch 52/100\n",
            "16/16 [==============================] - 0s 5ms/step - loss: 0.0039 - val_loss: 0.0059\n",
            "Epoch 53/100\n",
            "16/16 [==============================] - 0s 6ms/step - loss: 0.0036 - val_loss: 0.0058\n",
            "Epoch 54/100\n",
            "16/16 [==============================] - 0s 5ms/step - loss: 0.0035 - val_loss: 0.0056\n",
            "Epoch 55/100\n",
            "16/16 [==============================] - 0s 5ms/step - loss: 0.0035 - val_loss: 0.0054\n",
            "Epoch 56/100\n",
            "16/16 [==============================] - 0s 5ms/step - loss: 0.0031 - val_loss: 0.0053\n",
            "Epoch 57/100\n",
            "16/16 [==============================] - 0s 5ms/step - loss: 0.0030 - val_loss: 0.0054\n",
            "Epoch 58/100\n",
            "16/16 [==============================] - 0s 5ms/step - loss: 0.0030 - val_loss: 0.0049\n",
            "Epoch 59/100\n",
            "16/16 [==============================] - 0s 6ms/step - loss: 0.0030 - val_loss: 0.0052\n",
            "Epoch 60/100\n",
            "16/16 [==============================] - 0s 5ms/step - loss: 0.0030 - val_loss: 0.0049\n",
            "Epoch 61/100\n",
            "16/16 [==============================] - 0s 4ms/step - loss: 0.0026 - val_loss: 0.0054\n",
            "Epoch 62/100\n",
            "16/16 [==============================] - 0s 5ms/step - loss: 0.0025 - val_loss: 0.0054\n",
            "Epoch 63/100\n",
            "16/16 [==============================] - 0s 5ms/step - loss: 0.0024 - val_loss: 0.0043\n",
            "Epoch 64/100\n",
            "16/16 [==============================] - 0s 5ms/step - loss: 0.0023 - val_loss: 0.0042\n",
            "Epoch 65/100\n",
            "16/16 [==============================] - 0s 7ms/step - loss: 0.0022 - val_loss: 0.0040\n",
            "Epoch 66/100\n",
            "16/16 [==============================] - 0s 5ms/step - loss: 0.0022 - val_loss: 0.0043\n",
            "Epoch 67/100\n",
            "16/16 [==============================] - 0s 4ms/step - loss: 0.0019 - val_loss: 0.0038\n",
            "Epoch 68/100\n",
            "16/16 [==============================] - 0s 5ms/step - loss: 0.0019 - val_loss: 0.0038\n",
            "Epoch 69/100\n",
            "16/16 [==============================] - 0s 5ms/step - loss: 0.0017 - val_loss: 0.0037\n",
            "Epoch 70/100\n",
            "16/16 [==============================] - 0s 6ms/step - loss: 0.0018 - val_loss: 0.0035\n",
            "Epoch 71/100\n",
            "16/16 [==============================] - 0s 5ms/step - loss: 0.0017 - val_loss: 0.0034\n",
            "Epoch 72/100\n",
            "16/16 [==============================] - 0s 5ms/step - loss: 0.0015 - val_loss: 0.0038\n",
            "Epoch 73/100\n",
            "16/16 [==============================] - 0s 4ms/step - loss: 0.0017 - val_loss: 0.0033\n",
            "Epoch 74/100\n",
            "16/16 [==============================] - 0s 5ms/step - loss: 0.0016 - val_loss: 0.0032\n",
            "Epoch 75/100\n",
            "16/16 [==============================] - 0s 5ms/step - loss: 0.0014 - val_loss: 0.0032\n",
            "Epoch 76/100\n",
            "16/16 [==============================] - 0s 5ms/step - loss: 0.0014 - val_loss: 0.0031\n",
            "Epoch 77/100\n",
            "16/16 [==============================] - 0s 6ms/step - loss: 0.0013 - val_loss: 0.0031\n",
            "Epoch 78/100\n",
            "16/16 [==============================] - 0s 5ms/step - loss: 0.0013 - val_loss: 0.0029\n",
            "Epoch 79/100\n",
            "16/16 [==============================] - 0s 5ms/step - loss: 0.0014 - val_loss: 0.0034\n",
            "Epoch 80/100\n",
            "16/16 [==============================] - 0s 4ms/step - loss: 0.0012 - val_loss: 0.0028\n",
            "Epoch 81/100\n",
            "16/16 [==============================] - 0s 6ms/step - loss: 0.0012 - val_loss: 0.0031\n",
            "Epoch 82/100\n",
            "16/16 [==============================] - 0s 6ms/step - loss: 0.0013 - val_loss: 0.0029\n",
            "Epoch 83/100\n",
            "16/16 [==============================] - 0s 5ms/step - loss: 0.0012 - val_loss: 0.0031\n",
            "Epoch 84/100\n",
            "16/16 [==============================] - 0s 5ms/step - loss: 0.0016 - val_loss: 0.0029\n",
            "Epoch 85/100\n",
            "16/16 [==============================] - 0s 5ms/step - loss: 0.0012 - val_loss: 0.0026\n",
            "Epoch 86/100\n",
            "16/16 [==============================] - 0s 5ms/step - loss: 0.0011 - val_loss: 0.0025\n",
            "Epoch 87/100\n",
            "16/16 [==============================] - 0s 5ms/step - loss: 9.7233e-04 - val_loss: 0.0026\n",
            "Epoch 88/100\n",
            "16/16 [==============================] - 0s 6ms/step - loss: 9.3673e-04 - val_loss: 0.0025\n",
            "Epoch 89/100\n",
            "16/16 [==============================] - 0s 5ms/step - loss: 9.1483e-04 - val_loss: 0.0024\n",
            "Epoch 90/100\n",
            "16/16 [==============================] - 0s 6ms/step - loss: 9.3241e-04 - val_loss: 0.0024\n",
            "Epoch 91/100\n",
            "16/16 [==============================] - 0s 5ms/step - loss: 9.0656e-04 - val_loss: 0.0024\n",
            "Epoch 92/100\n",
            "16/16 [==============================] - 0s 5ms/step - loss: 9.2151e-04 - val_loss: 0.0023\n",
            "Epoch 93/100\n",
            "16/16 [==============================] - 0s 5ms/step - loss: 8.8099e-04 - val_loss: 0.0023\n",
            "Epoch 94/100\n",
            "16/16 [==============================] - 0s 5ms/step - loss: 9.0673e-04 - val_loss: 0.0023\n",
            "Epoch 95/100\n",
            "16/16 [==============================] - 0s 6ms/step - loss: 8.1915e-04 - val_loss: 0.0023\n",
            "Epoch 96/100\n",
            "16/16 [==============================] - 0s 8ms/step - loss: 7.9802e-04 - val_loss: 0.0022\n",
            "Epoch 97/100\n",
            "16/16 [==============================] - 0s 7ms/step - loss: 8.8989e-04 - val_loss: 0.0022\n",
            "Epoch 98/100\n",
            "16/16 [==============================] - 0s 8ms/step - loss: 7.7719e-04 - val_loss: 0.0022\n",
            "Epoch 99/100\n",
            "16/16 [==============================] - 0s 9ms/step - loss: 8.1752e-04 - val_loss: 0.0022\n",
            "Epoch 100/100\n",
            "16/16 [==============================] - 0s 8ms/step - loss: 7.4057e-04 - val_loss: 0.0021\n"
          ]
        }
      ]
    },
    {
      "cell_type": "code",
      "source": [
        "predicciones_fecha = model.predict(X_test)"
      ],
      "metadata": {
        "colab": {
          "base_uri": "https://localhost:8080/"
        },
        "id": "YgnvKYvJ64pC",
        "outputId": "81c3f9da-f1b0-4999-e264-df87b6a89d65"
      },
      "execution_count": 23,
      "outputs": [
        {
          "output_type": "stream",
          "name": "stdout",
          "text": [
            "6/6 [==============================] - 0s 3ms/step\n"
          ]
        }
      ]
    },
    {
      "cell_type": "code",
      "source": [
        "# Evaluate the model's performance on the test set using Mean Squared Error (MSE)\n",
        "loss = model.evaluate(X_test, y_test)\n",
        "print(\"Loss (MSE):\", loss)\n",
        "\n",
        "# Calculate the Mean Absolute Error (MAE) between actual and predicted values\n",
        "mae = mean_absolute_error(y_test, predicciones_fecha)\n",
        "print(\"MAE:\", mae)"
      ],
      "metadata": {
        "colab": {
          "base_uri": "https://localhost:8080/"
        },
        "id": "tGFAFmIJ68f9",
        "outputId": "27d204c5-7f88-41f3-f3a9-6e9492f920f9"
      },
      "execution_count": 24,
      "outputs": [
        {
          "output_type": "stream",
          "name": "stdout",
          "text": [
            "6/6 [==============================] - 0s 4ms/step - loss: 0.0020\n",
            "Loss (MSE): 0.0020213103853166103\n",
            "MAE: 0.029322701405329877\n"
          ]
        }
      ]
    },
    {
      "cell_type": "code",
      "source": [
        "# Extract training and validation losses from the training history\n",
        "train_loss = history.history['loss']\n",
        "val_loss = history.history['val_loss']\n",
        "\n",
        "# Create a plot to visualize the training and validation losses\n",
        "plt.figure(figsize=(10, 6))\n",
        "plt.plot(train_loss, 'b', label='Training Loss')\n",
        "plt.plot(val_loss, 'r', label='Validation Loss')\n",
        "plt.title('Training and Validation Loss')\n",
        "plt.xlabel('Epochs')\n",
        "plt.ylabel('Loss')\n",
        "plt.legend()\n",
        "plt.show()"
      ],
      "metadata": {
        "colab": {
          "base_uri": "https://localhost:8080/",
          "height": 564
        },
        "id": "7HyzkMAS7Fn8",
        "outputId": "524a4feb-2baf-4d72-8d9e-311957701b1c"
      },
      "execution_count": 25,
      "outputs": [
        {
          "output_type": "display_data",
          "data": {
            "text/plain": [
              "<Figure size 1000x600 with 1 Axes>"
            ],
            "image/png": "[encoded data removed]"
          },
          "metadata": {}
        }
      ]
    }
  ],
  "metadata": {
    "colab": {
      "toc_visible": true,
      "provenance": [],
      "mount_file_id": "1M0ZMQJCz9aG2PA6DWOpS_LqVmj7K-K-b",
      "authorship_tag": "ABX9TyNwxIbP6hyfbeJb531fOewA",
      "include_colab_link": true
    },
    "kernelspec": {
      "display_name": "Python 3",
      "name": "python3"
    },
    "language_info": {
      "name": "python"
    }
  },
  "nbformat": 4,
  "nbformat_minor": 0
}